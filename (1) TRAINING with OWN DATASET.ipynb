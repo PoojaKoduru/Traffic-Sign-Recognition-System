{
 "cells": [
  {
   "cell_type": "code",
   "execution_count": 1,
   "id": "3c40c7cf",
   "metadata": {},
   "outputs": [],
   "source": [
    "#IMPORTING LIBRARIES\n",
    "import numpy as np\n",
    "import pandas as pd\n",
    "import matplotlib.pyplot as plt\n",
    "import cv2\n",
    "import tensorflow as tf\n",
    "from PIL import Image\n",
    "import os\n",
    "from sklearn.model_selection import train_test_split\n",
    "from keras.utils.np_utils import to_categorical\n",
    "from keras.models import Sequential, load_model\n",
    "from keras.layers import Dense, Flatten, Dropout\n",
    "from keras.layers.convolutional import Convolution2D as Conv2D, MaxPooling2D as MaxPool2D"
   ]
  },
  {
   "cell_type": "code",
   "execution_count": 2,
   "id": "93595277",
   "metadata": {},
   "outputs": [],
   "source": [
    "data = []\n",
    "labels = []\n",
    "classes = 5\n",
    "cur_path = os.getcwd()\n",
    "\n",
    "#there are 43 kinds of traffic sign boards in the dataset, hence the no. of of classes is taken as 43.\n",
    "#Retrieving the images and their labels\n",
    "for i in range(classes):\n",
    "    path = os.path.join(cur_path,'train_own',str(i+1))\n",
    "    images = os.listdir(path)\n",
    "\n",
    "    #we open each folder and extract the images and store in the list data[]\n",
    "    for a in images:\n",
    "        try:\n",
    "            image = Image.open(path + '\\\\'+ a)\n",
    "            image = image.resize((30,30))\n",
    "            image = np.array(image)\n",
    "            #sim = Image.fromarray(image)\n",
    "            data.append(image)\n",
    "            labels.append(i+1)\n",
    "        except:\n",
    "            print(\"Error loading image\")\n",
    "\n",
    "#Converting lists into numpy arrays\n",
    "#We need to convert the list into numpy arrays for feeding to the model.\n",
    "data = np.array(data)\n",
    "labels = np.array(labels)\n",
    "\n",
    "# we have stored all the images and their labels into lists (data and labels).\n"
   ]
  },
  {
   "cell_type": "code",
   "execution_count": 13,
   "id": "0462f704",
   "metadata": {},
   "outputs": [
    {
     "name": "stdout",
     "output_type": "stream",
     "text": [
      "(99, 30, 30, 3) (99,)\n",
      "(79, 30, 30, 3) (20, 30, 30, 3) (79,) (20,)\n"
     ]
    }
   ],
   "source": [
    "print(data.shape, labels.shape)\n",
    "#Splitting training and testing dataset\n",
    "#random_state indicates the highest number of the folder\n",
    "X_train, X_test, y_train, y_test = train_test_split(data, labels, test_size=0.2, random_state=5)\n",
    "\n",
    "print(X_train.shape, X_test.shape, y_train.shape, y_test.shape)\n",
    "\n",
    "#Converting the labels into one hot encoding\n",
    "y_train = to_categorical(y_train,6)\n",
    "y_test = to_categorical(y_test,6)\n"
   ]
  },
  {
   "cell_type": "code",
   "execution_count": 16,
   "id": "4355cf2e",
   "metadata": {},
   "outputs": [
    {
     "name": "stdout",
     "output_type": "stream",
     "text": [
      "Model: \"sequential_2\"\n",
      "_________________________________________________________________\n",
      " Layer (type)                Output Shape              Param #   \n",
      "=================================================================\n",
      " conv2d_8 (Conv2D)           (None, 26, 26, 32)        2432      \n",
      "                                                                 \n",
      " conv2d_9 (Conv2D)           (None, 22, 22, 32)        25632     \n",
      "                                                                 \n",
      " max_pooling2d_4 (MaxPooling  (None, 11, 11, 32)       0         \n",
      " 2D)                                                             \n",
      "                                                                 \n",
      " dropout_6 (Dropout)         (None, 11, 11, 32)        0         \n",
      "                                                                 \n",
      " conv2d_10 (Conv2D)          (None, 9, 9, 64)          18496     \n",
      "                                                                 \n",
      " conv2d_11 (Conv2D)          (None, 7, 7, 64)          36928     \n",
      "                                                                 \n",
      " max_pooling2d_5 (MaxPooling  (None, 3, 3, 64)         0         \n",
      " 2D)                                                             \n",
      "                                                                 \n",
      " dropout_7 (Dropout)         (None, 3, 3, 64)          0         \n",
      "                                                                 \n",
      " flatten_2 (Flatten)         (None, 576)               0         \n",
      "                                                                 \n",
      " dense_4 (Dense)             (None, 256)               147712    \n",
      "                                                                 \n",
      " dropout_8 (Dropout)         (None, 256)               0         \n",
      "                                                                 \n",
      " dense_5 (Dense)             (None, 6)                 1542      \n",
      "                                                                 \n",
      "=================================================================\n",
      "Total params: 232,742\n",
      "Trainable params: 232,742\n",
      "Non-trainable params: 0\n",
      "_________________________________________________________________\n"
     ]
    }
   ],
   "source": [
    "#Building the model\n",
    "model = Sequential()\n",
    "\n",
    "model.add(Conv2D(filters=32, kernel_size=(5,5), activation='relu', input_shape=X_train.shape[1:]))\n",
    "model.add(Conv2D(filters=32, kernel_size=(5,5), activation='relu'))\n",
    "#we first add two 2-D convolutional layers to the model with 32 filters each\n",
    "#kernel size is 5*5 which will move around the image to get features.\n",
    "#activation function used is rectified linear (ReLu) fuction.\n",
    "\n",
    "model.add(MaxPool2D(pool_size=(2, 2)))\n",
    "#then we do max pooling, to reduce the amount of parameters and computation in the network.\n",
    "\n",
    "model.add(Dropout(rate=0.25))\n",
    "#Dropout is a technique where randomly selected neurons are ignored during training to prevent overfitting\n",
    "\n",
    "model.add(Conv2D(filters=64, kernel_size=(3, 3), activation='relu'))\n",
    "model.add(Conv2D(filters=64, kernel_size=(3, 3), activation='relu'))\n",
    "model.add(MaxPool2D(pool_size=(2, 2)))\n",
    "model.add(Dropout(rate=0.25))\n",
    "#now again two convolutional layers with 64 filters each and 3*3 kernel size are added  and maxpooling, dropout is done\n",
    "\n",
    "model.add(Flatten())\n",
    "#a flattening layer is used to convert data/image into 1-D array\n",
    "\n",
    "model.add(Dense(256, activation='relu'))\n",
    "#a dense layer is added,for being fully connected to the previous layer\n",
    "\n",
    "model.add(Dropout(rate=0.5))\n",
    "#dropout layer added to avoid overfitting\n",
    "\n",
    "model.add(Dense(6, activation='softmax'))\n",
    "#a softmax layer is added to convert an array of numbers into array of probabilities of occurence of a feature\n",
    "\n",
    "#Compilation of the model\n",
    "model.compile(loss='categorical_crossentropy', optimizer='adam', metrics=['accuracy'])\n",
    "#loss is “categorical_crossentropy” because we have multiple classes to categorise.\n",
    "#metrics is chosen to be accuracy, because we wish to optimise it\n",
    "model.summary()"
   ]
  },
  {
   "cell_type": "code",
   "execution_count": 18,
   "id": "ea3470bf",
   "metadata": {},
   "outputs": [
    {
     "name": "stdout",
     "output_type": "stream",
     "text": [
      "Epoch 1/40\n",
      "3/3 [==============================] - 0s 91ms/step - loss: 1.2277 - accuracy: 0.4557 - val_loss: 1.2714 - val_accuracy: 0.5500\n",
      "Epoch 2/40\n",
      "3/3 [==============================] - 0s 73ms/step - loss: 1.0287 - accuracy: 0.6709 - val_loss: 1.4188 - val_accuracy: 0.4500\n",
      "Epoch 3/40\n",
      "3/3 [==============================] - 0s 76ms/step - loss: 0.8921 - accuracy: 0.6203 - val_loss: 1.1916 - val_accuracy: 0.5500\n",
      "Epoch 4/40\n",
      "3/3 [==============================] - 0s 72ms/step - loss: 0.7828 - accuracy: 0.7089 - val_loss: 1.0160 - val_accuracy: 0.6500\n",
      "Epoch 5/40\n",
      "3/3 [==============================] - 0s 76ms/step - loss: 0.9620 - accuracy: 0.5949 - val_loss: 1.0776 - val_accuracy: 0.5000\n",
      "Epoch 6/40\n",
      "3/3 [==============================] - 0s 71ms/step - loss: 0.7347 - accuracy: 0.7468 - val_loss: 1.1192 - val_accuracy: 0.5000\n",
      "Epoch 7/40\n",
      "3/3 [==============================] - 0s 75ms/step - loss: 0.7840 - accuracy: 0.6709 - val_loss: 1.0318 - val_accuracy: 0.5500\n",
      "Epoch 8/40\n",
      "3/3 [==============================] - 0s 86ms/step - loss: 0.7941 - accuracy: 0.6962 - val_loss: 0.9107 - val_accuracy: 0.6000\n",
      "Epoch 9/40\n",
      "3/3 [==============================] - 0s 77ms/step - loss: 0.6517 - accuracy: 0.7595 - val_loss: 0.9130 - val_accuracy: 0.7000\n",
      "Epoch 10/40\n",
      "3/3 [==============================] - 0s 82ms/step - loss: 0.6771 - accuracy: 0.8101 - val_loss: 1.0017 - val_accuracy: 0.5500\n",
      "Epoch 11/40\n",
      "3/3 [==============================] - 0s 83ms/step - loss: 0.6432 - accuracy: 0.7468 - val_loss: 1.0628 - val_accuracy: 0.5000\n",
      "Epoch 12/40\n",
      "3/3 [==============================] - 0s 86ms/step - loss: 0.6704 - accuracy: 0.7342 - val_loss: 0.9167 - val_accuracy: 0.6500\n",
      "Epoch 13/40\n",
      "3/3 [==============================] - 0s 85ms/step - loss: 0.4876 - accuracy: 0.8354 - val_loss: 0.8965 - val_accuracy: 0.6500\n",
      "Epoch 14/40\n",
      "3/3 [==============================] - 0s 83ms/step - loss: 0.5301 - accuracy: 0.8101 - val_loss: 0.9642 - val_accuracy: 0.7000\n",
      "Epoch 15/40\n",
      "3/3 [==============================] - 0s 81ms/step - loss: 0.4752 - accuracy: 0.8228 - val_loss: 0.8521 - val_accuracy: 0.7000\n",
      "Epoch 16/40\n",
      "3/3 [==============================] - 0s 86ms/step - loss: 0.4355 - accuracy: 0.8608 - val_loss: 0.8772 - val_accuracy: 0.6500\n",
      "Epoch 17/40\n",
      "3/3 [==============================] - 0s 80ms/step - loss: 0.4494 - accuracy: 0.8861 - val_loss: 0.9213 - val_accuracy: 0.7000\n",
      "Epoch 18/40\n",
      "3/3 [==============================] - 0s 77ms/step - loss: 0.4530 - accuracy: 0.8354 - val_loss: 0.8017 - val_accuracy: 0.6500\n",
      "Epoch 19/40\n",
      "3/3 [==============================] - 0s 79ms/step - loss: 0.5283 - accuracy: 0.7848 - val_loss: 0.8940 - val_accuracy: 0.6500\n",
      "Epoch 20/40\n",
      "3/3 [==============================] - 0s 88ms/step - loss: 0.3119 - accuracy: 0.9114 - val_loss: 0.9157 - val_accuracy: 0.6500\n",
      "Epoch 21/40\n",
      "3/3 [==============================] - 0s 81ms/step - loss: 0.3267 - accuracy: 0.8861 - val_loss: 0.8270 - val_accuracy: 0.7000\n",
      "Epoch 22/40\n",
      "3/3 [==============================] - 0s 76ms/step - loss: 0.3864 - accuracy: 0.8228 - val_loss: 0.9476 - val_accuracy: 0.7000\n",
      "Epoch 23/40\n",
      "3/3 [==============================] - 0s 79ms/step - loss: 0.2738 - accuracy: 0.9114 - val_loss: 1.1449 - val_accuracy: 0.5500\n",
      "Epoch 24/40\n",
      "3/3 [==============================] - 0s 86ms/step - loss: 0.2812 - accuracy: 0.8987 - val_loss: 1.0507 - val_accuracy: 0.6000\n",
      "Epoch 25/40\n",
      "3/3 [==============================] - 0s 82ms/step - loss: 0.4672 - accuracy: 0.8608 - val_loss: 0.8921 - val_accuracy: 0.6000\n",
      "Epoch 26/40\n",
      "3/3 [==============================] - 0s 83ms/step - loss: 0.2971 - accuracy: 0.8987 - val_loss: 1.0380 - val_accuracy: 0.6000\n",
      "Epoch 27/40\n",
      "3/3 [==============================] - 0s 84ms/step - loss: 0.2991 - accuracy: 0.9241 - val_loss: 1.1310 - val_accuracy: 0.5000\n",
      "Epoch 28/40\n",
      "3/3 [==============================] - 0s 86ms/step - loss: 0.1702 - accuracy: 0.9620 - val_loss: 1.0120 - val_accuracy: 0.6000\n",
      "Epoch 29/40\n",
      "3/3 [==============================] - 0s 81ms/step - loss: 0.3479 - accuracy: 0.8734 - val_loss: 0.8903 - val_accuracy: 0.6500\n",
      "Epoch 30/40\n",
      "3/3 [==============================] - 0s 85ms/step - loss: 0.2552 - accuracy: 0.8987 - val_loss: 0.8979 - val_accuracy: 0.7000\n",
      "Epoch 31/40\n",
      "3/3 [==============================] - 0s 90ms/step - loss: 0.1307 - accuracy: 0.9747 - val_loss: 1.0589 - val_accuracy: 0.6500\n",
      "Epoch 32/40\n",
      "3/3 [==============================] - 0s 95ms/step - loss: 0.2675 - accuracy: 0.9114 - val_loss: 1.3117 - val_accuracy: 0.5500\n",
      "Epoch 33/40\n",
      "3/3 [==============================] - 0s 82ms/step - loss: 0.2766 - accuracy: 0.9494 - val_loss: 1.2642 - val_accuracy: 0.6500\n",
      "Epoch 34/40\n",
      "3/3 [==============================] - 0s 87ms/step - loss: 0.3260 - accuracy: 0.9241 - val_loss: 0.9445 - val_accuracy: 0.6000\n",
      "Epoch 35/40\n",
      "3/3 [==============================] - 0s 87ms/step - loss: 0.3511 - accuracy: 0.8987 - val_loss: 1.0165 - val_accuracy: 0.6500\n",
      "Epoch 36/40\n",
      "3/3 [==============================] - 0s 80ms/step - loss: 0.4289 - accuracy: 0.8608 - val_loss: 1.0167 - val_accuracy: 0.6500\n",
      "Epoch 37/40\n",
      "3/3 [==============================] - 0s 89ms/step - loss: 0.2962 - accuracy: 0.8734 - val_loss: 0.9421 - val_accuracy: 0.6500\n",
      "Epoch 38/40\n",
      "3/3 [==============================] - 0s 85ms/step - loss: 0.1959 - accuracy: 0.9367 - val_loss: 0.7466 - val_accuracy: 0.7000\n",
      "Epoch 39/40\n",
      "3/3 [==============================] - 0s 79ms/step - loss: 0.2251 - accuracy: 0.9494 - val_loss: 0.7648 - val_accuracy: 0.7500\n",
      "Epoch 40/40\n",
      "3/3 [==============================] - 0s 87ms/step - loss: 0.2693 - accuracy: 0.9241 - val_loss: 0.8668 - val_accuracy: 0.8000\n"
     ]
    }
   ],
   "source": [
    "#epoch is the number of times the neural network is trained with the whole dataset\n",
    "#in each epoch the dataset is divided into batches of size 32\n",
    "#we train the model with the training dataset divided and validate using validating dataset\n",
    "epochs = 40\n",
    "history = model.fit(X_train, y_train, batch_size=32, epochs=epochs, validation_data=(X_test, y_test))"
   ]
  },
  {
   "cell_type": "code",
   "execution_count": 21,
   "id": "8cd2015d",
   "metadata": {},
   "outputs": [
    {
     "name": "stdout",
     "output_type": "stream",
     "text": [
      "[1 1 5 2 2 2 3 3 3 4 4 4 5 5 5]\n",
      "[1, 1, 1, 2, 2, 2, 3, 3, 3, 4, 4, 4, 5, 5, 5]\n",
      "0.9333333333333333\n"
     ]
    }
   ],
   "source": [
    "#testing accuracy on test dataset\n",
    "data = []\n",
    "labels = []\n",
    "classes = 5\n",
    "cur_path = os.getcwd()\n",
    "\n",
    "#there are 43 kinds of traffic sign boards in the dataset, hence the no. of of classes is taken as 43.\n",
    "#Retrieving the images and their labels\n",
    "for i in range(classes):\n",
    "    path = os.path.join(cur_path,'test_own',str(i+1))\n",
    "    images = os.listdir(path)\n",
    "\n",
    "    #we open each folder and extract the images and store in the list data[]\n",
    "    for a in images:\n",
    "        try:\n",
    "            image = Image.open(path + '\\\\'+ a)\n",
    "            image = image.resize((30,30))\n",
    "            image = np.array(image)\n",
    "            #sim = Image.fromarray(image)\n",
    "            data.append(image)\n",
    "            labels.append(i+1)\n",
    "        except:\n",
    "            print(\"Error loading image\")\n",
    "\n",
    "\n",
    "\n",
    "#we access all the test images from each folder in test dataset and convert it into numpy array    \n",
    "X_test=np.array(data)\n",
    "\n",
    "predict_x=model.predict(X_test)       #predicted values\n",
    "classes_x=np.argmax(predict_x,axis=1) #Actual values\n",
    "print(classes_x)\n",
    "print(labels)\n",
    "\n",
    "#pred = model.predict_classes(X_test)\n",
    "\n",
    "#Accuracy with the test data\n",
    "from sklearn.metrics import accuracy_score\n",
    "print(accuracy_score(labels, classes_x)) \n",
    "#Then we check the accuracy of our classification model which is 96%"
   ]
  },
  {
   "cell_type": "code",
   "execution_count": 22,
   "id": "b36b74a5",
   "metadata": {},
   "outputs": [],
   "source": [
    "model.save('tsr_own.h5')"
   ]
  },
  {
   "cell_type": "code",
   "execution_count": 23,
   "id": "6f66cca8",
   "metadata": {},
   "outputs": [
    {
     "name": "stdout",
     "output_type": "stream",
     "text": [
      "[[2 0 0 0 0]\n",
      " [0 3 0 0 0]\n",
      " [0 0 3 0 0]\n",
      " [0 0 0 3 0]\n",
      " [1 0 0 0 3]]\n"
     ]
    }
   ],
   "source": [
    "from sklearn.metrics import confusion_matrix\n",
    "\n",
    "#Generate the confusion matrix\n",
    "cf_matrix = confusion_matrix(classes_x, labels)\n",
    "\n",
    "print(cf_matrix)"
   ]
  },
  {
   "cell_type": "code",
   "execution_count": 24,
   "id": "01221e92",
   "metadata": {},
   "outputs": [
    {
     "data": {
      "image/png": "[encoded data removed]",
      "text/plain": [
       "<Figure size 432x288 with 2 Axes>"
      ]
     },
     "metadata": {
      "needs_background": "light"
     },
     "output_type": "display_data"
    }
   ],
   "source": [
    "import seaborn as sns\n",
    "\n",
    "ax = sns.heatmap(cf_matrix,annot=True,cmap='Blues')\n",
    "\n",
    "ax.set_title('Seaborn Confusion Matrix with labels\\n\\n');\n",
    "ax.set_xlabel('\\nPredicted Values')\n",
    "ax.set_ylabel('Actual Values ');\n",
    "\n",
    "## Display the visualization of the Confusion Matrix.\n",
    "#Dark colour indicates more predictions for those values\n",
    "plt.show()"
   ]
  },
  {
   "cell_type": "code",
   "execution_count": 25,
   "id": "e25ba8b1",
   "metadata": {},
   "outputs": [
    {
     "name": "stdout",
     "output_type": "stream",
     "text": [
      "TPR = 0.9333333333333333\n",
      "TNR = 0.9833333333333333\n",
      "FPR = 0.016666666666666666\n",
      "FNR = 0.06666666666666667\n",
      "Accuracy = 0.9733333333333334\n"
     ]
    }
   ],
   "source": [
    "FP = cf_matrix.sum(axis=0) - np.diag(cf_matrix)  \n",
    "FN = cf_matrix.sum(axis=1) - np.diag(cf_matrix)\n",
    "TP = np.diag(cf_matrix)\n",
    "TN = cf_matrix.sum() - (FP + FN + TP)\n",
    "FP = FP.sum()\n",
    "FN = FN.sum()\n",
    "TP = TP.sum()\n",
    "TN = TN.sum()\n",
    "TPR = TP/(TP+FN)\n",
    "TNR = TN/(TN+FP) \n",
    "FPR = FP/(FP+TN)\n",
    "FNR = FN/(TP+FN)\n",
    "ACC = (TP+TN)/(TP+FP+FN+TN)\n",
    "print(\"TPR =\",TPR)\n",
    "print(\"TNR =\",TNR)\n",
    "print(\"FPR =\",FPR)\n",
    "print(\"FNR =\",FNR)\n",
    "print(\"Accuracy =\",ACC)"
   ]
  },
  {
   "cell_type": "code",
   "execution_count": null,
   "id": "68fbd304",
   "metadata": {},
   "outputs": [],
   "source": []
  }
 ],
 "metadata": {
  "kernelspec": {
   "display_name": "Python 3 (ipykernel)",
   "language": "python",
   "name": "python3"
  },
  "language_info": {
   "codemirror_mode": {
    "name": "ipython",
    "version": 3
   },
   "file_extension": ".py",
   "mimetype": "text/x-python",
   "name": "python",
   "nbconvert_exporter": "python",
   "pygments_lexer": "ipython3",
   "version": "3.9.5"
  }
 },
 "nbformat": 4,
 "nbformat_minor": 5
}
